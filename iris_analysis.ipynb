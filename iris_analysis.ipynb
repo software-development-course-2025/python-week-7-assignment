# Import libraries
import pandas as pd
from sklearn.datasets import load_iris

# Load the dataset
iris = load_iris()
df = pd.DataFrame(iris.data, columns=iris.feature_names)
df["species"] = pd.Categorical.from_codes(iris.target, iris.target_names)

# Show first rows
df.head()

# Dataset info and null value check
df.info()

# Check for missing values
df.isnull().sum()

# Summary of numeric features
df.describe()

# Group by species and compute the mean
df.groupby("species").mean()

