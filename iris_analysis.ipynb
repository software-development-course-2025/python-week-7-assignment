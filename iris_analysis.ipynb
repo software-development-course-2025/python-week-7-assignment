{
  "nbformat": 4,
  "nbformat_minor": 0,
  "metadata": {
    "colab": {
      "provenance": [],
      "authorship_tag": "ABX9TyO79jVOdfKJDylfdGZ5bVi5",
      "include_colab_link": true
    },
    "kernelspec": {
      "name": "python3",
      "display_name": "Python 3"
    },
    "language_info": {
      "name": "python"
    }
  },
  "cells": [
    {
      "cell_type": "markdown",
      "metadata": {
        "id": "view-in-github",
        "colab_type": "text"
      },
      "source": [
        "<a href=\"https://colab.research.google.com/github/software-development-course-2025/python-week-7-assignment/blob/main/iris_analysis.ipynb\" target=\"_parent\"><img src=\"https://colab.research.google.com/assets/colab-badge.svg\" alt=\"Open In Colab\"/></a>"
      ]
    },
    {
      "cell_type": "markdown",
      "source": [
        "# Iris Dataset - Basic Data Exploration\n",
        "\n",
        "This notebook performs initial exploration of the classic Iris dataset.  \n",
        "It includes data loading, summary statistics, grouping, and early observations.\n"
      ],
      "metadata": {
        "id": "lOG_8FFajU9q"
      }
    },
    {
      "cell_type": "code",
      "source": [
        "import pandas as pd\n",
        "from sklearn.datasets import load_iris\n",
        "iris = load_iris()\n",
        "df = pd.DataFrame(iris.data, columns=iris.feature_names)\n",
        "df[\"species\"] = pd.Categorical.from_codes(iris.target, iris.target_names)\n",
        "df.head()\n",
        "df.info()\n",
        "df.isnull().sum()\n"
      ],
      "metadata": {
        "id": "4w314F3tjd18"
      },
      "execution_count": null,
      "outputs": []
    },
    {
      "cell_type": "markdown",
      "source": [
        "## Descriptive Statistics\n"
      ],
      "metadata": {
        "id": "zJx9T2HFjnZU"
      }
    },
    {
      "cell_type": "code",
      "source": [
        "df.describe()\n"
      ],
      "metadata": {
        "id": "tZMJihsTjsq-"
      },
      "execution_count": null,
      "outputs": []
    },
    {
      "cell_type": "markdown",
      "source": [
        "## Mean Measurements per Species\n"
      ],
      "metadata": {
        "id": "O966nKNojv9a"
      }
    },
    {
      "cell_type": "code",
      "source": [
        "df.groupby(\"species\").mean()\n"
      ],
      "metadata": {
        "id": "-WVKil-CjydB"
      },
      "execution_count": null,
      "outputs": []
    },
    {
      "cell_type": "markdown",
      "source": [
        "## 🔍 Observations\n",
        "\n",
        "- *Setosa* has significantly smaller petal length and width.\n",
        "- *Virginica* generally shows the largest values for most features.\n",
        "- No missing values found, and data types are consistent.\n",
        "\n",
        "This prepares the ground for visualizations in the next step.\n"
      ],
      "metadata": {
        "id": "YHNvNbWqj1IR"
      }
    },
    {
      "cell_type": "code",
      "execution_count": null,
      "metadata": {
        "id": "St29iMGoigIB"
      },
      "outputs": [],
      "source": []
    }
  ]
}