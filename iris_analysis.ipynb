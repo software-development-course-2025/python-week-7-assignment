{
  "nbformat": 4,
  "nbformat_minor": 0,
  "metadata": {
    "colab": {
      "provenance": [],
      "authorship_tag": "ABX9TyMvCYTnI614aa6Mp6HDHGiS",
      "include_colab_link": true
    },
    "kernelspec": {
      "name": "python3",
      "display_name": "Python 3"
    },
    "language_info": {
      "name": "python"
    }
  },
  "cells": [
    {
      "cell_type": "markdown",
      "metadata": {
        "id": "view-in-github",
        "colab_type": "text"
      },
      "source": [
        "<a href=\"https://colab.research.google.com/github/software-development-course-2025/python-week-7-assignment/blob/main/iris_analysis.ipynb\" target=\"_parent\"><img src=\"https://colab.research.google.com/assets/colab-badge.svg\" alt=\"Open In Colab\"/></a>"
      ]
    },
    {
      "cell_type": "markdown",
      "source": [
        "# Iris Dataset - Basic Data Exploration\n",
        "\n",
        "This notebook performs initial exploration of the classic Iris dataset.  \n",
        "It includes data loading, summary statistics, grouping, and early observations.\n"
      ],
      "metadata": {
        "id": "lOG_8FFajU9q"
      }
    },
    {
      "cell_type": "code",
      "source": [
        "import pandas as pd\n",
        "from sklearn.datasets import load_iris\n",
        "iris = load_iris()\n",
        "df = pd.DataFrame(iris.data, columns=iris.feature_names)\n",
        "df[\"species\"] = pd.Categorical.from_codes(iris.target, iris.target_names)\n",
        "df.head()\n",
        "df.info()\n",
        "df.isnull().sum()\n"
      ],
      "metadata": {
        "id": "4w314F3tjd18"
      },
      "execution_count": null,
      "outputs": []
    },
    {
      "cell_type": "markdown",
      "source": [
        "## Descriptive Statistics\n"
      ],
      "metadata": {
        "id": "zJx9T2HFjnZU"
      }
    },
    {
      "cell_type": "code",
      "source": [
        "df.describe()\n"
      ],
      "metadata": {
        "id": "tZMJihsTjsq-"
      },
      "execution_count": null,
      "outputs": []
    },
    {
      "cell_type": "markdown",
      "source": [
        "## Mean Measurements per Species\n"
      ],
      "metadata": {
        "id": "O966nKNojv9a"
      }
    },
    {
      "cell_type": "code",
      "source": [
        "df.groupby(\"species\", observed=True).mean()\n"
      ],
      "metadata": {
        "id": "-WVKil-CjydB"
      },
      "execution_count": null,
      "outputs": []
    },
    {
      "cell_type": "markdown",
      "source": [
        "## 🔍 Observations\n",
        "\n",
        "- *Setosa* has significantly smaller petal length and width.\n",
        "- *Virginica* generally shows the largest values for most features.\n",
        "- No missing values found, and data types are consistent.\n",
        "\n",
        "This prepares the ground for visualizations in the next step.\n"
      ],
      "metadata": {
        "id": "YHNvNbWqj1IR"
      }
    },
    {
      "cell_type": "code",
      "source": [
        "from sklearn.datasets import load_iris\n",
        "import pandas as pd\n",
        "\n",
        "iris = load_iris()\n",
        "df = pd.DataFrame(data=iris.data, columns=iris.feature_names)\n",
        "df['species'] = pd.Categorical.from_codes(iris.target, iris.target_names)\n",
        "\n",
        "# Import plotting libraries\n",
        "import matplotlib.pyplot as plt\n",
        "import seaborn as sns\n",
        "\n",
        "# Set seaborn style for nicer visuals\n",
        "sns.set(style=\"whitegrid\")\n",
        "\n",
        "# 1. Line chart (simulated trend using sample index)\n",
        "plt.figure(figsize=(8, 4))\n",
        "plt.plot(df.index, df['sepal length (cm)'], label='Sepal Length')\n",
        "plt.plot(df.index, df['sepal width (cm)'], label='Sepal Width')\n",
        "plt.title('Sepal Length and Width Trends')\n",
        "plt.xlabel('Sample Index')\n",
        "plt.ylabel('Centimeters')\n",
        "plt.legend()\n",
        "plt.tight_layout()\n",
        "plt.show()\n",
        "\n",
        "# 2. Bar chart (average petal length by species)\n",
        "mean_petal_length = df.groupby('species', observed=True)['petal length (cm)'].mean().reset_index()\n",
        "plt.figure(figsize=(6, 4))\n",
        "sns.barplot(data=mean_petal_length, x='species', y='petal length (cm)', palette='pastel', hue='species', legend=False)\n",
        "plt.title('Average Petal Length by Species')\n",
        "plt.xlabel('Species')\n",
        "plt.ylabel('Average Petal Length (cm)')\n",
        "plt.tight_layout()\n",
        "plt.show()\n",
        "\n",
        "# 3. Histogram (distribution of petal width)\n",
        "plt.figure(figsize=(6, 4))\n",
        "plt.hist(df['petal width (cm)'], bins=15, color='skyblue', edgecolor='black')\n",
        "plt.title('Distribution of Petal Width')\n",
        "plt.xlabel('Petal Width (cm)')\n",
        "plt.ylabel('Frequency')\n",
        "plt.tight_layout()\n",
        "plt.show()\n",
        "\n",
        "# 4. Scatter plot (sepal length vs petal length by species)\n",
        "plt.figure(figsize=(6, 4))\n",
        "sns.scatterplot(data=df, x='sepal length (cm)', y='petal length (cm)', hue='species', palette='deep')\n",
        "plt.title('Sepal Length vs Petal Length by Species')\n",
        "plt.xlabel('Sepal Length (cm)')\n",
        "plt.ylabel('Petal Length (cm)')\n",
        "plt.legend(title='Species')\n",
        "plt.tight_layout()\n",
        "plt.show()\n"
      ],
      "metadata": {
        "id": "v53PcirXxxiM"
      },
      "execution_count": null,
      "outputs": []
    }
  ]
}